{
 "cells": [
  {
   "cell_type": "code",
   "execution_count": 1,
   "id": "d1fec653",
   "metadata": {},
   "outputs": [],
   "source": [
    "from config import Config\n",
    "from data_loader import Dataset\n",
    "from scalers import Scalers\n",
    "from model import RefinementModelBuilder\n",
    "\n",
    "config = Config(config_path='config.json')\n",
    "dataset = Dataset(config)\n",
    "\n",
    "scalers = Scalers(config)\n",
    "refinement_model_builder = RefinementModelBuilder(config = config)"
   ]
  },
  {
   "cell_type": "code",
   "execution_count": 2,
   "id": "3fbcba7c",
   "metadata": {},
   "outputs": [
    {
     "name": "stdout",
     "output_type": "stream",
     "text": [
      "##################################################\n",
      "Dataset summary:\n",
      "Train: 10 batches, 10240 samples\n",
      "Validation: 10 batches, 10240 samples\n",
      "Test: 10 batches, 10240 samples\n",
      "--------------------------------------------------\n",
      "Input: 12 features\n",
      "Target: 9 features\n",
      "Spectators: 35 features\n",
      "##################################################\n"
     ]
    }
   ],
   "source": [
    "dataset.print_summary()"
   ]
  },
  {
   "cell_type": "code",
   "execution_count": 3,
   "id": "ffd12976",
   "metadata": {},
   "outputs": [],
   "source": [
    "model_dict = {\n",
    "    \"input_scaler\" : scalers.get_input_scalers(),\n",
    "    \"refinement_model\" : refinement_model_builder.build(),\n",
    "    \"target_inverse_scaler\" : scalers.get_target_inverse_scalers(),\n",
    "}"
   ]
  },
  {
   "cell_type": "code",
   "execution_count": 4,
   "id": "3fe6b257",
   "metadata": {},
   "outputs": [],
   "source": [
    "model = refinement_model_builder.bind_models(model_dict = model_dict)"
   ]
  },
  {
   "cell_type": "code",
   "execution_count": 5,
   "id": "d15411be",
   "metadata": {},
   "outputs": [],
   "source": [
    "refinement_model_builder.show_architecture(model = model, depth = 3, output_path = \"/afs/cern.ch/user/d/dboncukc/Refinement_monitor/model.pdf\")"
   ]
  },
  {
   "cell_type": "code",
   "execution_count": null,
   "id": "480137be",
   "metadata": {},
   "outputs": [],
   "source": []
  }
 ],
 "metadata": {
  "kernelspec": {
   "display_name": "Python 3 (ipykernel)",
   "language": "python",
   "name": "python3"
  },
  "language_info": {
   "codemirror_mode": {
    "name": "ipython",
    "version": 3
   },
   "file_extension": ".py",
   "mimetype": "text/x-python",
   "name": "python",
   "nbconvert_exporter": "python",
   "pygments_lexer": "ipython3",
   "version": "3.11.9"
  }
 },
 "nbformat": 4,
 "nbformat_minor": 5
}
