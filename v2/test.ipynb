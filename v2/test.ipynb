{
 "cells": [
  {
   "cell_type": "code",
   "execution_count": null,
   "metadata": {},
   "outputs": [],
   "source": [
    "#source /cvmfs/sft.cern.ch/lcg/views/LCG_106_cuda/x86_64-el9-gcc11-opt/setup.sh\n",
    "\n",
    "from config import Config\n",
    "from data_loader import Dataset\n",
    "from scalers import Scalers\n",
    "from model import RefinementModelBuilder\n",
    "from loss import LossManager\n",
    "from train import Trainer\n",
    "\n",
    "import os"
   ]
  },
  {
   "cell_type": "code",
   "execution_count": null,
   "metadata": {},
   "outputs": [],
   "source": [
    " config = Config(config_path='config.json')\n",
    "\n",
    "    training_id = config.generalSettings.trainingId\n",
    "\n",
    "    training_id = training_id if training_id else config.generalSettings.trainingName\n",
    "\n",
    "    if training_id is None:\n",
    "        raise ValueError(\"Training ID or Training Name must be provided.\")\n",
    "\n",
    "    grid_id = config.generalSettings.gridId\n",
    "\n",
    "    grid_id = grid_id if grid_id else ''\n",
    "    \n",
    "    storeFolder = config.outputSettings.storeFolder\n",
    "\n",
    "    if storeFolder is None:\n",
    "        raise ValueError(\"Store Folder path must be provided.\")\n",
    "    \n",
    "    if storeFolder[-1] != '/':\n",
    "        storeFolder += '/'\n",
    "\n",
    "    output_path = f\"{storeFolder}{grid_id}/{training_id}/\"\n",
    "\n",
    "    os.makedirs(os.path.dirname(output_path), exist_ok=True)\n",
    "\n",
    "    dataset = Dataset(config)\n",
    "    scalers = Scalers(config)\n",
    "    refinement_model_builder = RefinementModelBuilder(config=config)\n",
    "    loss_manager = LossManager(config=config)\n",
    "    \n",
    "    dataset.print_summary()\n",
    "    \n",
    "    trainer = Trainer(\n",
    "        config=config,\n",
    "        dataset=dataset,\n",
    "        losses=loss_manager,\n",
    "        refinement_model_builder=refinement_model_builder,\n",
    "        scalers=scalers\n",
    "    )\n",
    "\n",
    "    refinement_model_builder.show_architecture(\n",
    "        model=trainer.model, \n",
    "        depth=3, \n",
    "        output_path=output_path\n",
    "    )\n",
    "    \n",
    "    print(\"\\nStarting training...\")\n",
    "    trained_model = trainer.train()\n",
    "    \n",
    "    print(\"\\nEvaluating on test set...\")\n",
    "    test_loss = trainer.test()\n",
    "    \n",
    "    print(\"\\nTraining completed successfully!\")\n",
    "    print(f\"Final test loss: {test_loss:.6f}\")\n"
   ]
  }
 ],
 "metadata": {
  "kernelspec": {
   "display_name": "ml",
   "language": "python",
   "name": "python3"
  },
  "language_info": {
   "name": "python",
   "version": "3.11.13"
  }
 },
 "nbformat": 4,
 "nbformat_minor": 2
}
