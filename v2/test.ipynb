{
 "cells": [
  {
   "cell_type": "code",
   "execution_count": 1,
   "id": "d1fec653",
   "metadata": {},
   "outputs": [],
   "source": [
    "from config import Config\n",
    "from data_loader import Dataset\n",
    "from scalers import Scalers\n",
    "from model import RefinementModelBuilder\n",
    "\n",
    "config = Config(config_path='config.json')\n",
    "dataset = Dataset(config)\n",
    "\n",
    "scalers = Scalers(config)\n",
    "refinement_model_builder = RefinementModelBuilder(config = config)"
   ]
  },
  {
   "cell_type": "code",
   "execution_count": 2,
   "id": "3fbcba7c",
   "metadata": {},
   "outputs": [
    {
     "name": "stdout",
     "output_type": "stream",
     "text": [
      "##################################################\n",
      "Dataset summary:\n",
      "Train: 10 batches, 10240 samples\n",
      "Validation: 10 batches, 10240 samples\n",
      "Test: 10 batches, 10240 samples\n",
      "--------------------------------------------------\n",
      "Input: 12 features\n",
      "Target: 9 features\n",
      "Spectators: 35 features\n",
      "##################################################\n"
     ]
    }
   ],
   "source": [
    "dataset.print_summary()"
   ]
  },
  {
   "cell_type": "code",
   "execution_count": 3,
   "id": "ffd12976",
   "metadata": {},
   "outputs": [],
   "source": [
    "model_dict = {\n",
    "    \"input_scaler\" : scalers.get_input_scalers(),\n",
    "    \"refinement_model\" : refinement_model_builder.build(),\n",
    "    \"target_inverse_scaler\" : scalers.get_target_inverse_scalers(),\n",
    "}"
   ]
  },
  {
   "cell_type": "code",
   "execution_count": 4,
   "id": "3fe6b257",
   "metadata": {},
   "outputs": [],
   "source": [
    "model = refinement_model_builder.bind_models(model_dict = model_dict)"
   ]
  },
  {
   "cell_type": "code",
   "execution_count": 5,
   "id": "d15411be",
   "metadata": {},
   "outputs": [
    {
     "name": "stdout",
     "output_type": "stream",
     "text": [
      "torchview not installed, skipping architecture saving\n"
     ]
    }
   ],
   "source": [
    "refinement_model_builder.show_architecture(model = model, depth = 3, output_path = \"/afs/cern.ch/user/d/dboncukc/Refinement_monitor/model.pdf\")"
   ]
  },
  {
   "cell_type": "code",
   "execution_count": 6,
   "id": "2857886e",
   "metadata": {},
   "outputs": [],
   "source": [
    "from loss import LossManager"
   ]
  },
  {
   "cell_type": "code",
   "execution_count": 7,
   "id": "7e43222a",
   "metadata": {},
   "outputs": [],
   "source": [
    "losses = LossManager(config = config)"
   ]
  },
  {
   "cell_type": "code",
   "execution_count": 8,
   "id": "077e5c24",
   "metadata": {},
   "outputs": [],
   "source": [
    "input, target, spec =  dataset.train.dataset[0:10]"
   ]
  },
  {
   "cell_type": "code",
   "execution_count": 9,
   "id": "0ed03cea",
   "metadata": {},
   "outputs": [
    {
     "data": {
      "text/plain": [
       "dict_keys(['parameters', 'variables', 'spectators', 'input_features', 'target_features', 'spectator_features'])"
      ]
     },
     "execution_count": 9,
     "metadata": {},
     "output_type": "execute_result"
    }
   ],
   "source": [
    "config.features.keys()"
   ]
  },
  {
   "cell_type": "code",
   "execution_count": 10,
   "id": "11f64707",
   "metadata": {},
   "outputs": [
    {
     "data": {
      "text/plain": [
       "tensor(213365.3594)"
      ]
     },
     "execution_count": 10,
     "metadata": {},
     "output_type": "execute_result"
    }
   ],
   "source": [
    "losses.get_primary_loss()(input, target*15, target)"
   ]
  },
  {
   "cell_type": "code",
   "execution_count": 11,
   "id": "157df9ac",
   "metadata": {},
   "outputs": [
    {
     "data": {
      "text/plain": [
       "3"
      ]
     },
     "execution_count": 11,
     "metadata": {},
     "output_type": "execute_result"
    }
   ],
   "source": [
    "losses.numParameters"
   ]
  },
  {
   "cell_type": "code",
   "execution_count": 12,
   "id": "4b9aeccb",
   "metadata": {},
   "outputs": [],
   "source": [
    "losses.calculate(input = input, output = target*20, target = target, is_val=False, epoch=None)"
   ]
  },
  {
   "cell_type": "code",
   "execution_count": 13,
   "id": "0113a6d1",
   "metadata": {},
   "outputs": [
    {
     "data": {
      "text/plain": [
       "{'primary': [LogEntry(value=tensor(392984.1250), epoch=0)],\n",
       " 'mse_input_output': [LogEntry(value=tensor(393720.1250), epoch=0)],\n",
       " 'huber_output_target': [LogEntry(value=tensor(189.0497), epoch=0)],\n",
       " 'huber_input_output': [LogEntry(value=tensor(189.4775), epoch=0)]}"
      ]
     },
     "execution_count": 13,
     "metadata": {},
     "output_type": "execute_result"
    }
   ],
   "source": [
    "losses.loss_log.train"
   ]
  },
  {
   "cell_type": "code",
   "execution_count": 14,
   "id": "54072db6",
   "metadata": {},
   "outputs": [],
   "source": [
    "losses.calculate(input = input, output = target*20, target = target, is_val=True, epoch=None)\n"
   ]
  },
  {
   "cell_type": "code",
   "execution_count": 15,
   "id": "ec661089",
   "metadata": {},
   "outputs": [
    {
     "data": {
      "text/plain": [
       "{'primary': [LogEntry(value=tensor(392984.1250), epoch=0)],\n",
       " 'mse_input_output': [LogEntry(value=tensor(393720.1250), epoch=0)],\n",
       " 'huber_output_target': [LogEntry(value=tensor(189.0497), epoch=0)],\n",
       " 'huber_input_output': [LogEntry(value=tensor(189.4775), epoch=0)]}"
      ]
     },
     "execution_count": 15,
     "metadata": {},
     "output_type": "execute_result"
    }
   ],
   "source": [
    "losses.loss_log.validation"
   ]
  },
  {
   "cell_type": "code",
   "execution_count": null,
   "id": "40ed1894",
   "metadata": {},
   "outputs": [],
   "source": []
  }
 ],
 "metadata": {
  "kernelspec": {
   "display_name": "ml",
   "language": "python",
   "name": "python3"
  },
  "language_info": {
   "codemirror_mode": {
    "name": "ipython",
    "version": 3
   },
   "file_extension": ".py",
   "mimetype": "text/x-python",
   "name": "python",
   "nbconvert_exporter": "python",
   "pygments_lexer": "ipython3",
   "version": "3.11.13"
  }
 },
 "nbformat": 4,
 "nbformat_minor": 5
}
