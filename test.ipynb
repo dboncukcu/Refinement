{
 "cells": [
  {
   "cell_type": "code",
   "execution_count": 1,
   "id": "d1fec653",
   "metadata": {},
   "outputs": [],
   "source": [
    "from config import Config\n",
    "from data_loader import Dataset\n",
    "from scalers import Scalers\n",
    "\n",
    "\n",
    "config = Config(config_path='config.json')\n",
    "dataset = Dataset(config)\n",
    "\n",
    "scalers = Scalers(config)"
   ]
  },
  {
   "cell_type": "code",
   "execution_count": 2,
   "id": "0c1de057",
   "metadata": {},
   "outputs": [],
   "source": [
    "train_loader = dataset.train"
   ]
  },
  {
   "cell_type": "code",
   "execution_count": 3,
   "id": "3021b24b",
   "metadata": {},
   "outputs": [
    {
     "name": "stdout",
     "output_type": "stream",
     "text": [
      "0 torch.Size([1024, 12]) torch.Size([1024, 9]) torch.Size([1024, 35])\n",
      "1 torch.Size([1024, 12]) torch.Size([1024, 9]) torch.Size([1024, 35])\n",
      "2 torch.Size([1024, 12]) torch.Size([1024, 9]) torch.Size([1024, 35])\n",
      "3 torch.Size([1024, 12]) torch.Size([1024, 9]) torch.Size([1024, 35])\n",
      "4 torch.Size([1024, 12]) torch.Size([1024, 9]) torch.Size([1024, 35])\n",
      "5 torch.Size([1024, 12]) torch.Size([1024, 9]) torch.Size([1024, 35])\n",
      "6 torch.Size([1024, 12]) torch.Size([1024, 9]) torch.Size([1024, 35])\n",
      "7 torch.Size([1024, 12]) torch.Size([1024, 9]) torch.Size([1024, 35])\n",
      "8 torch.Size([1024, 12]) torch.Size([1024, 9]) torch.Size([1024, 35])\n",
      "9 torch.Size([1024, 12]) torch.Size([1024, 9]) torch.Size([1024, 35])\n"
     ]
    }
   ],
   "source": [
    "for batch, (inp, target, spectators) in enumerate(train_loader):    \n",
    "    print(batch,inp.shape, target.shape, spectators.shape)"
   ]
  },
  {
   "cell_type": "code",
   "execution_count": 4,
   "id": "42472762",
   "metadata": {},
   "outputs": [
    {
     "data": {
      "text/plain": [
       "(12, 9, 35)"
      ]
     },
     "execution_count": 4,
     "metadata": {},
     "output_type": "execute_result"
    }
   ],
   "source": [
    "len(config.features.parameters) + len(config.features.variables), len(config.features.variables), len(config.features.spectator_features)"
   ]
  },
  {
   "cell_type": "code",
   "execution_count": 5,
   "id": "7cfe0907",
   "metadata": {},
   "outputs": [],
   "source": [
    "import torch.nn as nn"
   ]
  },
  {
   "cell_type": "code",
   "execution_count": 6,
   "id": "198ef625",
   "metadata": {},
   "outputs": [],
   "source": [
    "loss = nn.MSELoss()"
   ]
  },
  {
   "cell_type": "code",
   "execution_count": null,
   "id": "960bffc1",
   "metadata": {},
   "outputs": [
    {
     "data": {
      "text/plain": [
       "Sequential(\n",
       "  (log10_1): LogScaler()\n",
       "  (logit_2): LogitScaler()\n",
       "  (tanh1200_3): TanhScaler()\n",
       "  (log2_4): LogScaler()\n",
       "  (logit_5): LogitScaler()\n",
       "  (tanh700_6): TanhScaler()\n",
       ")"
      ]
     },
     "execution_count": 7,
     "metadata": {},
     "output_type": "execute_result"
    }
   ],
   "source": []
  },
  {
   "cell_type": "code",
   "execution_count": 10,
   "id": "03fbdb4f",
   "metadata": {},
   "outputs": [
    {
     "data": {
      "text/plain": [
       "tensor(0.0781)"
      ]
     },
     "execution_count": 10,
     "metadata": {},
     "output_type": "execute_result"
    }
   ],
   "source": [
    "loss(scalers.input_inverse_scaler_model(scalers.input_scaler_model(inp)), inp)"
   ]
  },
  {
   "cell_type": "code",
   "execution_count": 12,
   "id": "6cc62914",
   "metadata": {},
   "outputs": [
    {
     "data": {
      "text/plain": [
       "tensor(0.1041)"
      ]
     },
     "execution_count": 12,
     "metadata": {},
     "output_type": "execute_result"
    }
   ],
   "source": [
    "loss(scalers.target_inverse_scaler_model(scalers.target_scaler_model(target)), target)"
   ]
  },
  {
   "cell_type": "code",
   "execution_count": null,
   "id": "d48c0e51",
   "metadata": {},
   "outputs": [],
   "source": []
  }
 ],
 "metadata": {
  "kernelspec": {
   "display_name": "Python 3 (ipykernel)",
   "language": "python",
   "name": "python3"
  },
  "language_info": {
   "codemirror_mode": {
    "name": "ipython",
    "version": 3
   },
   "file_extension": ".py",
   "mimetype": "text/x-python",
   "name": "python",
   "nbconvert_exporter": "python",
   "pygments_lexer": "ipython3",
   "version": "3.11.9"
  }
 },
 "nbformat": 4,
 "nbformat_minor": 5
}
